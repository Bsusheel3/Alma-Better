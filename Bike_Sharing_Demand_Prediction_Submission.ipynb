{
  "nbformat": 4,
  "nbformat_minor": 0,
  "metadata": {
    "colab": {
      "private_outputs": true,
      "provenance": [],
      "collapsed_sections": [
        "iAFHdlVb39H_",
        "7cA3rrIe4FLe",
        "xaN7kf9-4MFh",
        "CzDz8VYI4r0o",
        "8bqpRdYs5Mfo",
        "EyNgTHvd2WFk",
        "KH5McJBi2d8v",
        "iW_Lq9qf2h6X",
        "-Kee-DAl2viO",
        "gIfDvo9L0UH2"
      ],
      "include_colab_link": true
    },
    "kernelspec": {
      "name": "python3",
      "display_name": "Python 3"
    },
    "language_info": {
      "name": "python"
    }
  },
  "cells": [
    {
      "cell_type": "markdown",
      "metadata": {
        "id": "view-in-github",
        "colab_type": "text"
      },
      "source": [
        "<a href=\"https://colab.research.google.com/github/Bsusheel3/AlmaBetter/blob/main/Bike_Sharing_Demand_Prediction_Submission.ipynb\" target=\"_parent\"><img src=\"https://colab.research.google.com/assets/colab-badge.svg\" alt=\"Open In Colab\"/></a>"
      ]
    },
    {
      "cell_type": "markdown",
      "source": [
        "# **Project Name**    - Bike Sharing Demand Prediction\n",
        "\n"
      ],
      "metadata": {
        "id": "vncDsAP0Gaoa"
      }
    },
    {
      "cell_type": "markdown",
      "source": [
        "##### **Project Type**    - Regression\n",
        "##### **Contribution**    - Individual\n",
        "##### **Team Member -** Susheel Bhosale\n"
      ],
      "metadata": {
        "id": "beRrZCGUAJYm"
      }
    },
    {
      "cell_type": "markdown",
      "source": [
        "# **Project Summary -**"
      ],
      "metadata": {
        "id": "FJNUwmbgGyua"
      }
    },
    {
      "cell_type": "markdown",
      "source": [
        "<b>Currently Rental bikes are introduced in many urban cities for the enhancement of mobility comfort. It is important to make the rental bike available and accessible to the public at the right time as it lessens the waiting time. Eventually, providing the city with a stable supply of rental bikes becomes a major concern. The crucial part is the prediction of bike count required at each hour for the stable supply of rental bikes."
      ],
      "metadata": {
        "id": "F6v_1wHtG2nS"
      }
    },
    {
      "cell_type": "markdown",
      "source": [
        "# **GitHub Link -**"
      ],
      "metadata": {
        "id": "w6K7xa23Elo4"
      }
    },
    {
      "cell_type": "markdown",
      "source": [
        "https://github.com/Bsusheel3/AlmaBetter/blob/86fae83b06b0d3e47c7b4176c524d0c794f18ced/Bike_Sharing_Demand_Prediction_Submission.ipynb"
      ],
      "metadata": {
        "id": "h1o69JH3Eqqn"
      }
    },
    {
      "cell_type": "markdown",
      "source": [
        "# **Problem Statement**\n"
      ],
      "metadata": {
        "id": "yQaldy8SH6Dl"
      }
    },
    {
      "cell_type": "markdown",
      "source": [
        "<b>The goal of this project is to combine the historical bike usage patterns with the weather data in order to forecast bike rental demand.\n",
        "\n",
        "\n",
        "*   Target Column to be predicted: 'count'\n",
        "*   Input Columns used as variables (8 columns): ['datetime', 'season', 'holiday', 'workingday', 'weather', 'temp', 'atemp', 'humidity', 'windspeed'].\n",
        "*   The other two columns (casual and registered) comprises of the split-up of the target column 'count'."
      ],
      "metadata": {
        "id": "DpeJGUA3kjGy"
      }
    },
    {
      "cell_type": "markdown",
      "source": [
        "# **General Guidelines** : -  "
      ],
      "metadata": {
        "id": "mDgbUHAGgjLW"
      }
    },
    {
      "cell_type": "markdown",
      "source": [
        "1.   Well-structured, formatted, and commented code is required. \n",
        "2.   Exception Handling, Production Grade Code & Deployment Ready Code will be a plus. Those students will be awarded some additional credits. \n",
        "     \n",
        "     The additional credits will have advantages over other students during Star Student selection.\n",
        "       \n",
        "             [ Note: - Deployment Ready Code is defined as, the whole .ipynb notebook should be executable in one go\n",
        "                       without a single error logged. ]\n",
        "\n",
        "3.   Each and every logic should have proper comments.\n",
        "4. You may add as many number of charts you want. Make Sure for each and every chart the following format should be answered.\n",
        "        \n",
        "\n",
        "```\n",
        "# Chart visualization code\n",
        "```\n",
        "            \n",
        "\n",
        "*   Why did you pick the specific chart?\n",
        "*   What is/are the insight(s) found from the chart?\n",
        "* Will the gained insights help creating a positive business impact? \n",
        "Are there any insights that lead to negative growth? Justify with specific reason.\n",
        "\n",
        "5. You have to create at least 15 logical & meaningful charts having important insights.\n",
        "\n",
        "\n",
        "[ Hints : - Do the Vizualization in  a structured way while following \"UBM\" Rule. \n",
        "\n",
        "U - Univariate Analysis,\n",
        "\n",
        "B - Bivariate Analysis (Numerical - Categorical, Numerical - Numerical, Categorical - Categorical)\n",
        "\n",
        "M - Multivariate Analysis\n",
        " ]\n",
        "\n",
        "\n",
        "\n",
        "\n",
        "\n",
        "6. You may add more ml algorithms for model creation. Make sure for each and every algorithm, the following format should be answered.\n",
        "\n",
        "\n",
        "*   Explain the ML Model used and it's performance using Evaluation metric Score Chart.\n",
        "\n",
        "\n",
        "*   Cross- Validation & Hyperparameter Tuning\n",
        "\n",
        "*   Have you seen any improvement? Note down the improvement with updates Evaluation metric Score Chart.\n",
        "\n",
        "*   Explain each evaluation metric's indication towards business and the business impact pf the ML model used.\n",
        "\n",
        "\n",
        "\n",
        "\n",
        "\n",
        "\n",
        "\n",
        "\n",
        "\n",
        "\n",
        "\n",
        "\n",
        "\n",
        "\n",
        "\n",
        "\n",
        "\n",
        "\n"
      ],
      "metadata": {
        "id": "ZrxVaUj-hHfC"
      }
    },
    {
      "cell_type": "markdown",
      "source": [
        "# ***Let's Begin !***"
      ],
      "metadata": {
        "id": "O_i_v8NEhb9l"
      }
    },
    {
      "cell_type": "markdown",
      "source": [
        "## ***1. Know Your Data***"
      ],
      "metadata": {
        "id": "iAFHdlVb39H_"
      }
    },
    {
      "cell_type": "markdown",
      "source": [
        "### Import Libraries"
      ],
      "metadata": {
        "id": "MsUjcC3F39IA"
      }
    },
    {
      "cell_type": "code",
      "source": [
        "# Import Libraries\n",
        "# To performe mathematical operations\n",
        "import numpy as np\n",
        "\n",
        "# To load data from file\n",
        "import pandas as pd\n",
        "\n",
        "# # To visualize the data and get more insight from the data\n",
        "import matplotlib.pyplot as plt\n",
        "import seaborn as sns\n",
        "\n",
        "# To avoid the warning that aren't necessarily exceptions\n",
        "import warnings\n",
        "warnings.filterwarnings('ignore')\n",
        "\n",
        "# Sets the backend of seaborn to the 'inline' backend\n",
        "sns.set()\n",
        "# Sets the backend of matplotlib to the 'inline' backend\n",
        "%matplotlib inline"
      ],
      "metadata": {
        "id": "EIF_xmgJ39IA"
      },
      "execution_count": null,
      "outputs": []
    },
    {
      "cell_type": "markdown",
      "source": [
        "### Dataset Loading"
      ],
      "metadata": {
        "id": "EuVR9egG39IB"
      }
    },
    {
      "cell_type": "code",
      "source": [
        "# Load Dataset\n",
        "# Mounting drive and read the csv file\n",
        "from google.colab import drive\n",
        "drive.mount('/content/drive')"
      ],
      "metadata": {
        "id": "IP19CP6_39IB"
      },
      "execution_count": null,
      "outputs": []
    },
    {
      "cell_type": "code",
      "source": [
        "# Reading dataset from \"SeoulBikeData.csv\" using pandas read_csv\n",
        "path = '/content/drive/MyDrive/AlmaBetter : Cohort Austin /Capstone Projects/Capstone project data/SeoulBikeData.csv'\n",
        "df = pd.read_csv(path, encoding='unicode_escape')"
      ],
      "metadata": {
        "id": "myfooRc-HhoQ"
      },
      "execution_count": null,
      "outputs": []
    },
    {
      "cell_type": "markdown",
      "source": [
        "### Dataset First View"
      ],
      "metadata": {
        "id": "WTIL5qUP39IC"
      }
    },
    {
      "cell_type": "code",
      "source": [
        "# Dataset First Look\n",
        "df.head()"
      ],
      "metadata": {
        "id": "okC78NRe39IC"
      },
      "execution_count": null,
      "outputs": []
    },
    {
      "cell_type": "code",
      "source": [
        "df.tail()"
      ],
      "metadata": {
        "id": "SevBV1t8Hjmu"
      },
      "execution_count": null,
      "outputs": []
    },
    {
      "cell_type": "markdown",
      "source": [
        "### Dataset Rows & Columns count"
      ],
      "metadata": {
        "id": "2n8kJaeq39IC"
      }
    },
    {
      "cell_type": "code",
      "source": [
        "# Dataset Rows & Columns count\n",
        "# Printing the columns presesnt in dataset\n",
        "\n",
        "print('Columns in our data:')\n",
        "\n",
        "df.columns"
      ],
      "metadata": {
        "id": "wh934hAj39ID"
      },
      "execution_count": null,
      "outputs": []
    },
    {
      "cell_type": "markdown",
      "source": [
        "### Dataset Information"
      ],
      "metadata": {
        "id": "LBrhVToH39ID"
      }
    },
    {
      "cell_type": "code",
      "source": [
        "# Dataset Info\n",
        "# Extracting from pandas shape method to get the shape of our dataset\n",
        "\n",
        "df.info()"
      ],
      "metadata": {
        "id": "tgED38Rw39ID"
      },
      "execution_count": null,
      "outputs": []
    },
    {
      "cell_type": "code",
      "source": [
        "df[df.duplicated()]"
      ],
      "metadata": {
        "id": "r_756_eyabMz"
      },
      "execution_count": null,
      "outputs": []
    },
    {
      "cell_type": "markdown",
      "source": [
        "#### Duplicate Values"
      ],
      "metadata": {
        "id": "6DvUzacS39ID"
      }
    },
    {
      "cell_type": "code",
      "source": [
        "# Dataset Duplicate Value Count\n",
        "df[df.duplicated()].shape\n"
      ],
      "metadata": {
        "id": "JBgxIByy39IE"
      },
      "execution_count": null,
      "outputs": []
    },
    {
      "cell_type": "markdown",
      "source": [
        "#### Missing Values/Null Values"
      ],
      "metadata": {
        "id": "QSKafy9i39IE"
      }
    },
    {
      "cell_type": "code",
      "source": [
        "# Missing Values/Null Values Count\n",
        "df.isnull().sum()"
      ],
      "metadata": {
        "id": "CykCxd_g39IE"
      },
      "execution_count": null,
      "outputs": []
    },
    {
      "cell_type": "code",
      "source": [
        "# Visualizing the missing values\n",
        "df.isnull().sum().plot(kind = 'bar')\n",
        "plt.show()"
      ],
      "metadata": {
        "id": "uYm-HvHz39IE"
      },
      "execution_count": null,
      "outputs": []
    },
    {
      "cell_type": "markdown",
      "source": [
        "### What did you know about your dataset?"
      ],
      "metadata": {
        "id": "az0V7njq39IF"
      }
    },
    {
      "cell_type": "markdown",
      "source": [
        "\n",
        "<b>There is no missing value present in our dataset\n",
        "\n",
        "<b>Here we can observ that there is no missing value in our dataset"
      ],
      "metadata": {
        "id": "Yp6ZJYZK39IF"
      }
    },
    {
      "cell_type": "markdown",
      "source": [
        "## ***2. Understanding Your Variables***"
      ],
      "metadata": {
        "id": "7cA3rrIe4FLe"
      }
    },
    {
      "cell_type": "code",
      "source": [
        "# Dataset Columns\n",
        "df.columns"
      ],
      "metadata": {
        "id": "Pj5fyLr54FLe"
      },
      "execution_count": null,
      "outputs": []
    },
    {
      "cell_type": "code",
      "source": [
        "# Dataset Describe\n",
        "# For numerical columns\n",
        "df.describe()"
      ],
      "metadata": {
        "id": "XR9yK97b4FLf"
      },
      "execution_count": null,
      "outputs": []
    },
    {
      "cell_type": "markdown",
      "source": [
        "### Variables Description "
      ],
      "metadata": {
        "id": "YWTgxYkT4FLf"
      }
    },
    {
      "cell_type": "code",
      "source": [
        "# Extracting from pandas shape method to get the shape of our dataset\n",
        "\n",
        "print('Shape of our dataset is: ')\n",
        "df.shape"
      ],
      "metadata": {
        "id": "_kGoY9OvBnEJ"
      },
      "execution_count": null,
      "outputs": []
    },
    {
      "cell_type": "code",
      "source": [
        "# Selecting the categorical column only\n",
        "cat_cols = df.select_dtypes(include = 'object').columns\n",
        "print('count of categorical columns :',len(cat_cols))"
      ],
      "metadata": {
        "id": "OSQgdv2fBQHq"
      },
      "execution_count": null,
      "outputs": []
    },
    {
      "cell_type": "code",
      "source": [
        "df.describe(include='object')"
      ],
      "metadata": {
        "id": "XyOQclqjokAF"
      },
      "execution_count": null,
      "outputs": []
    },
    {
      "cell_type": "code",
      "source": [
        "# Selecting the numerical column only\n",
        "num_cols = df.select_dtypes(include = 'number').columns\n",
        "print('count of Numerical columns :',len(num_cols))\n"
      ],
      "metadata": {
        "id": "D4ictGgVBRgb"
      },
      "execution_count": null,
      "outputs": []
    },
    {
      "cell_type": "markdown",
      "source": [
        "\n",
        "<b>count of categorical columns : 4\n",
        "\n",
        "<b>count of Numerical columns : 10\n",
        "\n"
      ],
      "metadata": {
        "id": "Q5jHi2x24FLg"
      }
    },
    {
      "cell_type": "markdown",
      "source": [
        "### Check Unique Values for each variable."
      ],
      "metadata": {
        "id": "qLgy8O1y4FLh"
      }
    },
    {
      "cell_type": "code",
      "source": [
        "df.Seasons.unique()"
      ],
      "metadata": {
        "id": "3IlKfVGEpQOw"
      },
      "execution_count": null,
      "outputs": []
    },
    {
      "cell_type": "code",
      "source": [
        "# Check Unique Values for each variable.\n",
        "\n",
        "for i in df.columns:\n",
        "  print(i,df[i].nunique())\n"
      ],
      "metadata": {
        "id": "alc1vpJ24FLh"
      },
      "execution_count": null,
      "outputs": []
    },
    {
      "cell_type": "markdown",
      "source": [
        "## 3. ***Data Wrangling***"
      ],
      "metadata": {
        "id": "xaN7kf9-4MFh"
      }
    },
    {
      "cell_type": "markdown",
      "source": [
        "### Data Wrangling Code"
      ],
      "metadata": {
        "id": "LlIpRxto4MFi"
      }
    },
    {
      "cell_type": "code",
      "source": [
        "# Write your code to make your dataset analysis ready.\n",
        "\n",
        "# changing from string to datetime format using pandas to_datetime function\n",
        "df['Date'] = pd.to_datetime(df['Date'])"
      ],
      "metadata": {
        "id": "GDa_9u844MFi"
      },
      "execution_count": null,
      "outputs": []
    },
    {
      "cell_type": "code",
      "source": [
        "# creating a day column\n",
        "df['day'] = df['Date'].dt.day_name()\n",
        "\n",
        "# creating a month column\n",
        "df['month'] = df['Date'].dt.month_name()\n",
        "\n",
        "# creating a year column\n",
        "df['year'] = df['Date'].dt.year"
      ],
      "metadata": {
        "id": "icX2ippjBxpv"
      },
      "execution_count": null,
      "outputs": []
    },
    {
      "cell_type": "code",
      "source": [
        "df.dtypes\n"
      ],
      "metadata": {
        "id": "dL4dOocOBzOd"
      },
      "execution_count": null,
      "outputs": []
    },
    {
      "cell_type": "markdown",
      "source": [
        "### What all manipulations have you done and insights you found?"
      ],
      "metadata": {
        "id": "N_EwSP-w4MFi"
      }
    },
    {
      "cell_type": "markdown",
      "source": [
        "<b>As we can see that we have created 3 new column day, month and year from Date column"
      ],
      "metadata": {
        "id": "zDia5sL74MFi"
      }
    },
    {
      "cell_type": "markdown",
      "source": [
        "## ***4. Data Vizualization, Storytelling & Experimenting with charts : Understand the relationships between variables***"
      ],
      "metadata": {
        "id": "CzDz8VYI4r0o"
      }
    },
    {
      "cell_type": "code",
      "source": [
        "num_cols"
      ],
      "metadata": {
        "id": "H4PMnlgPB6qb"
      },
      "execution_count": null,
      "outputs": []
    },
    {
      "cell_type": "code",
      "source": [
        "plt.figure(figsize=(20,15))\n",
        "count= 1\n",
        "for column in num_cols:   \n",
        "    \n",
        "    plt.subplot(5,2,count)\n",
        "    count += 1\n",
        "    sns.distplot(df[column], bins = 100)\n",
        "    \n",
        "    plt.tight_layout()"
      ],
      "metadata": {
        "id": "xKYWId5WB718"
      },
      "execution_count": null,
      "outputs": []
    },
    {
      "cell_type": "markdown",
      "source": [
        "# <b>Observation:\n",
        "\n",
        "<b>Here we can see that Rented Bike count is postively skewed\n",
        "and temperatur is also not correctly distributed\n",
        "and also windspeed column is skewed"
      ],
      "metadata": {
        "id": "8bqpRdYs5Mfo"
      }
    },
    {
      "cell_type": "code",
      "source": [
        "plt.figure(figsize=(20,15))\n",
        "count= 1\n",
        "for column in num_cols:   \n",
        "    \n",
        "    plt.subplot(5,4,count)\n",
        "    \n",
        "    count += 1\n",
        "    sns.boxplot(df[column])\n",
        "    \n",
        "    plt.tight_layout()"
      ],
      "metadata": {
        "id": "GlQgSD8J5Mfo"
      },
      "execution_count": null,
      "outputs": []
    },
    {
      "cell_type": "markdown",
      "source": [
        "# <b>Observation :\n",
        "\n",
        "<b>We can observe here that many columns like rented bike count, solar radiation, rainfall, snowfall contains outliers\n",
        "\n"
      ],
      "metadata": {
        "id": "t2sDcWCY5Mfo"
      }
    },
    {
      "cell_type": "markdown",
      "source": [
        "#### Chart - 1"
      ],
      "metadata": {
        "id": "04NGLLcd5Mfp"
      }
    },
    {
      "cell_type": "code",
      "source": [
        "# Extracting count for each season \n",
        "df['Seasons'].value_counts()"
      ],
      "metadata": {
        "id": "x3yu8aOy5Mfp"
      },
      "execution_count": null,
      "outputs": []
    },
    {
      "cell_type": "code",
      "source": [
        "# Chart - 1 visualization code\n",
        "# ploting it using seaborn countplot\n",
        "plt.figure(figsize = (8,4))\n",
        "plt.title('Season wise popularity of demand of bikes')\n",
        "\n",
        "sns.countplot(data=df, x= 'Seasons')\n",
        "\n",
        "plt.xlabel('Seasons')\n",
        "plt.ylabel('Frequency')\n",
        "\n",
        "plt.show()"
      ],
      "metadata": {
        "id": "7EDafb6s5Mfp"
      },
      "execution_count": null,
      "outputs": []
    },
    {
      "cell_type": "markdown",
      "source": [
        "##### 1. Why did you pick the specific chart?"
      ],
      "metadata": {
        "id": "1GcaWuW15Mfp"
      }
    },
    {
      "cell_type": "markdown",
      "source": [
        "\n",
        "\n",
        "<b>Countplot shows the frequency of each category (in this case, the number of bikes rented in each season) in a clear and concise manner. The x-axis shows the different categories (seasons) and the y-axis shows the frequency or count of each category."
      ],
      "metadata": {
        "id": "5UO4zmEH5Mfp"
      }
    },
    {
      "cell_type": "markdown",
      "source": [
        "##### 2. What is/are the insight(s) found from the chart?"
      ],
      "metadata": {
        "id": "r_KvNyBp5Mfq"
      }
    },
    {
      "cell_type": "markdown",
      "source": [
        "\n",
        "\n",
        "<b>We can observe here that there almost each season has the same popularity for the bike demands only small lower popularity in winter and autumn season"
      ],
      "metadata": {
        "id": "vltm9ZoN5Mfq"
      }
    },
    {
      "cell_type": "markdown",
      "source": [
        "##### 3. Will the gained insights help creating a positive business impact? \n",
        "Are there any insights that lead to negative growth? Justify with specific reason."
      ],
      "metadata": {
        "id": "M2QhYVMg5Mfq"
      }
    },
    {
      "cell_type": "markdown",
      "source": [
        "\n",
        "\n",
        "<b>The gained insights from this chart can definitely help create a positive business impact. For example, we can see which season has the highest demand for bikes, and adjust our inventory and marketing strategies accordingly. If we know that the summer season has the highest demand, we can ensure that we have enough bikes in stock and increase our marketing efforts during this time to attract more customers."
      ],
      "metadata": {
        "id": "_q9GVoPM5Mfq"
      }
    },
    {
      "cell_type": "markdown",
      "source": [
        "#### Chart - 2"
      ],
      "metadata": {
        "id": "nT4y4kuG5Mfq"
      }
    },
    {
      "cell_type": "code",
      "source": [
        "# Extracting functioning day\n",
        "df['Functioning Day'].value_counts()"
      ],
      "metadata": {
        "id": "FEXNlTUC5Mfq"
      },
      "execution_count": null,
      "outputs": []
    },
    {
      "cell_type": "code",
      "source": [
        "# Chart - 2 visualization code\n",
        "# ploting it using seaborn countplot\n",
        "plt.figure(figsize = (8,4))\n",
        "plt.title('Functioning Day wise popularity of demand of bikes')\n",
        "\n",
        "sns.countplot(data=df, x='Functioning Day')\n",
        "\n",
        "\n",
        "plt.xlabel('Functioning Day')\n",
        "plt.ylabel('Frequency')\n",
        "\n",
        "plt.show()\n"
      ],
      "metadata": {
        "id": "MzrHx4_N5Mfq"
      },
      "execution_count": null,
      "outputs": []
    },
    {
      "cell_type": "code",
      "source": [
        "# df['Functioning Day'].plot(kind='bar')"
      ],
      "metadata": {
        "id": "n0onUXeusH7A"
      },
      "execution_count": null,
      "outputs": []
    },
    {
      "cell_type": "markdown",
      "source": [
        "##### 1. Why did you pick the specific chart?"
      ],
      "metadata": {
        "id": "vNilBOTh5Mfr"
      }
    },
    {
      "cell_type": "markdown",
      "source": [
        "\n",
        "\n",
        "<b>Countplot is chosen because it shows the frequency of each category (in this case, the number of bikes rented on functioning days and non-functioning days) in a clear and concise manner. The x-axis shows the different categories (functioning day or non-functioning day) and the y-axis shows the frequency or count of each category."
      ],
      "metadata": {
        "id": "Ci57ag195Mfr"
      }
    },
    {
      "cell_type": "markdown",
      "source": [
        "##### 2. What is/are the insight(s) found from the chart?"
      ],
      "metadata": {
        "id": "x5-uHrxN5Mfr"
      }
    },
    {
      "cell_type": "markdown",
      "source": [
        "\n",
        "<b>We can observe here that there high demand in fuctioning day but almost no demand or very little demand in non functioning day it indicates very less people like to use rented bikes if they are free and not working on specific day"
      ],
      "metadata": {
        "id": "Hr7m9RU75Mfs"
      }
    },
    {
      "cell_type": "markdown",
      "source": [
        "##### 3. Will the gained insights help creating a positive business impact? \n",
        "Are there any insights that lead to negative growth? Justify with specific reason."
      ],
      "metadata": {
        "id": "FegBk6Lj5Mfs"
      }
    },
    {
      "cell_type": "markdown",
      "source": [
        "\n",
        "<b>The gained insights from this chart can help create a positive business impact. For example, we can see which type of day (functioning or non-functioning) has the highest demand for bikes, and adjust our inventory and marketing strategies accordingly. If we know that non-functioning days have a higher demand, we can ensure that we have enough bikes in stock and increase our marketing efforts during those days to attract more customers."
      ],
      "metadata": {
        "id": "WR08x6sa5Mfs"
      }
    },
    {
      "cell_type": "markdown",
      "source": [
        "#### Chart - 3"
      ],
      "metadata": {
        "id": "27KK7eNT5Mft"
      }
    },
    {
      "cell_type": "code",
      "source": [
        "# Extracting holiday wise demand\n",
        "df['Holiday'].value_counts()"
      ],
      "metadata": {
        "id": "OTQ_2sBd5Mft"
      },
      "execution_count": null,
      "outputs": []
    },
    {
      "cell_type": "code",
      "source": [
        "# Chart - 3 visualization code\n",
        "# ploting it using seaborn countplot\n",
        "plt.figure(figsize = (8,4))\n",
        "plt.title('HoliDay wise popularity of demand of bikes')\n",
        "\n",
        "sns.countplot(data=df, x='Holiday')\n",
        "\n",
        "plt.xlabel('Holiday')\n",
        "plt.ylabel('Frequency')\n",
        "\n",
        "plt.show()"
      ],
      "metadata": {
        "id": "ru6U2BTB5Mft"
      },
      "execution_count": null,
      "outputs": []
    },
    {
      "cell_type": "markdown",
      "source": [
        "##### 1. Why did you pick the specific chart?"
      ],
      "metadata": {
        "id": "misXsfJD5Mfu"
      }
    },
    {
      "cell_type": "markdown",
      "source": [
        "\n",
        "\n",
        "<b>Countplot shows the frequency of each category (in this case, the number of bikes rented on holidays and non-holidays) in a clear and concise manner. The x-axis shows the different categories (holiday or non-holiday) and the y-axis shows the frequency or count of each category."
      ],
      "metadata": {
        "id": "dloTorek5Mfu"
      }
    },
    {
      "cell_type": "markdown",
      "source": [
        "##### 2. What is/are the insight(s) found from the chart?"
      ],
      "metadata": {
        "id": "dWs_LliC5Mfu"
      }
    },
    {
      "cell_type": "markdown",
      "source": [
        "\n",
        "\n",
        "<b>We can observe here that there high demand in non holiday but almost no demand or very little demand in Holiday it indicates the same that very less people like to use rented bikes if they are free and not working on specific day"
      ],
      "metadata": {
        "id": "Ne9v8OcJ5Mfu"
      }
    },
    {
      "cell_type": "markdown",
      "source": [
        "##### 3. Will the gained insights help creating a positive business impact? \n",
        "Are there any insights that lead to negative growth? Justify with specific reason."
      ],
      "metadata": {
        "id": "bMNz86PK5Mfu"
      }
    },
    {
      "cell_type": "markdown",
      "source": [
        "\n",
        "\n",
        "<b>The gained insights from this chart can help create a positive business impact. For example, we can see which type of day (holiday or non-holiday) has the highest demand for bikes, and adjust our inventory and marketing strategies accordingly. If we know that holidays have a higher demand, we can ensure that we have enough bikes in stock and increase our marketing efforts during those days to attract more customers."
      ],
      "metadata": {
        "id": "Sx8ewtwj5Mfu"
      }
    },
    {
      "cell_type": "markdown",
      "source": [
        "#### Chart - 4"
      ],
      "metadata": {
        "id": "by4JrpH-5Mfu"
      }
    },
    {
      "cell_type": "code",
      "source": [
        "df['weekday'] = df['Date'].dt.weekday"
      ],
      "metadata": {
        "id": "K7SwbX395Mfu"
      },
      "execution_count": null,
      "outputs": []
    },
    {
      "cell_type": "code",
      "source": [
        "# Extracting daily demand\n",
        "df['day'].value_counts()"
      ],
      "metadata": {
        "id": "2MxZL8ub5Mfv"
      },
      "execution_count": null,
      "outputs": []
    },
    {
      "cell_type": "code",
      "source": [
        "# Chart - 4 visualization code\n",
        "# ploting it using seaborn lineplot\n",
        "plt.figure(figsize = (8,4))\n",
        "plt.title('Daily popularity of demand of bikes')\n",
        "\n",
        "sns.lineplot(x = df['day'].value_counts().index,y = df['day'].value_counts().values)\n",
        "plt.xlabel('Days')\n",
        "plt.ylabel('Frequency')\n",
        "\n",
        "plt.show()"
      ],
      "metadata": {
        "id": "QtRRCmLF5Mfv"
      },
      "execution_count": null,
      "outputs": []
    },
    {
      "cell_type": "markdown",
      "source": [
        "##### 1. Why did you pick the specific chart?"
      ],
      "metadata": {
        "id": "NW3OuFgX5Mfv"
      }
    },
    {
      "cell_type": "markdown",
      "source": [
        "\n",
        "\n",
        "<b>Line plot is selected to show the trend of daily popularity of demand of bikes. The line plot is a suitable chart to represent the continuous variable (i.e., days) and its corresponding frequency."
      ],
      "metadata": {
        "id": "GPYP-kTw5Mfv"
      }
    },
    {
      "cell_type": "markdown",
      "source": [
        "##### 2. What is/are the insight(s) found from the chart?"
      ],
      "metadata": {
        "id": "LxbGvEOX5Mfv"
      }
    },
    {
      "cell_type": "markdown",
      "source": [
        "Answer Here\n",
        "\n",
        "<b>We can see that in a week, demand of bike is more on Sunday and on Monday there is quite low demand"
      ],
      "metadata": {
        "id": "_v6lBb5L5Mfv"
      }
    },
    {
      "cell_type": "markdown",
      "source": [
        "##### 3. Will the gained insights help creating a positive business impact? \n",
        "Are there any insights that lead to negative growth? Justify with specific reason."
      ],
      "metadata": {
        "id": "ZZQC2JOT5Mfw"
      }
    },
    {
      "cell_type": "markdown",
      "source": [
        "\n",
        "\n",
        "<b>The gained insights can help in creating a positive business impact. By analyzing the trend, the business can identify the days with high demand and can plan accordingly. For example, if the trend shows that the demand is high on weekends, the business can increase the supply of bikes on weekends to meet the demand, which can result in more revenue."
      ],
      "metadata": {
        "id": "YJ-rH--95Mfw"
      }
    },
    {
      "cell_type": "markdown",
      "source": [
        "#### Chart - 5"
      ],
      "metadata": {
        "id": "vhezowmY5Mfw"
      }
    },
    {
      "cell_type": "code",
      "source": [
        "# Extracting weekly demand\n",
        "df['day'].value_counts()"
      ],
      "metadata": {
        "id": "lJoxmMzc5Mfw"
      },
      "execution_count": null,
      "outputs": []
    },
    {
      "cell_type": "code",
      "source": [
        "# Chart - 5 visualization code\n",
        "# ploting it using seaborn lineplot\n",
        "plt.figure(figsize = (8,4))\n",
        "plt.title('Weekly popularity of demand of bikes')\n",
        "\n",
        "sns.barplot(x = df['day'].value_counts().index,y = df['day'].value_counts().values)\n",
        "\n",
        "plt.xlabel('Weekdays')\n",
        "plt.ylabel('Frequency')\n",
        "\n",
        "plt.show()"
      ],
      "metadata": {
        "id": "0WuY0uNx5Mfw"
      },
      "execution_count": null,
      "outputs": []
    },
    {
      "cell_type": "markdown",
      "source": [
        "##### 1. Why did you pick the specific chart?"
      ],
      "metadata": {
        "id": "KPD41_Uj5Mfw"
      }
    },
    {
      "cell_type": "markdown",
      "source": [
        "\n",
        "<b>Bar plot is used to show the weekly popularity of demand of bikes. The bar plot is a suitable chart to represent the categorical variable (i.e., weekdays) and its corresponding frequency."
      ],
      "metadata": {
        "id": "mt0kkkLB5Mfw"
      }
    },
    {
      "cell_type": "markdown",
      "source": [
        "##### 2. What is/are the insight(s) found from the chart?"
      ],
      "metadata": {
        "id": "WBZFvWVu5Mfx"
      }
    },
    {
      "cell_type": "markdown",
      "source": [
        "\n",
        "<b>We can see that the in the beginning of the week and in the middle of the week it falls down and again in week ends again it starts to rise"
      ],
      "metadata": {
        "id": "lI87CYHc5Mfx"
      }
    },
    {
      "cell_type": "markdown",
      "source": [
        "##### 3. Will the gained insights help creating a positive business impact? \n",
        "Are there any insights that lead to negative growth? Justify with specific reason."
      ],
      "metadata": {
        "id": "hdVBmqXc5Mfx"
      }
    },
    {
      "cell_type": "markdown",
      "source": [
        "\n",
        "<b>The gained insights can help in creating a positive business impact. By analyzing the popularity of demand of bikes on weekdays, the business can identify the weekdays with high demand and can plan accordingly. For example, if the bar plot shows that the demand is high on Thursdays and Fridays, the business can increase the supply of bikes on these weekdays to meet the demand, which can result in more revenue."
      ],
      "metadata": {
        "id": "cHZwUNVd5Mfx"
      }
    },
    {
      "cell_type": "markdown",
      "source": [
        "#### Chart - 6"
      ],
      "metadata": {
        "id": "8D8vMaWf5Mfx"
      }
    },
    {
      "cell_type": "code",
      "source": [
        "# Extracting monthly demand\n",
        "df['month'].value_counts()"
      ],
      "metadata": {
        "id": "3XCN4KtZ5Mfx"
      },
      "execution_count": null,
      "outputs": []
    },
    {
      "cell_type": "code",
      "source": [
        "# Chart - 6 visualization code\n",
        "\n",
        "# ploting it using seaborn barplot\n",
        "plt.figure(figsize = (12,6))\n",
        "plt.title('Mothly popularity of demand of bikes')\n",
        "\n",
        "sns.barplot(x = df['month'].value_counts().index,y = df['month'].value_counts().values)\n",
        "\n",
        "plt.xlabel('Months')\n",
        "plt.ylabel('Frequency')\n",
        "\n",
        "plt.show()"
      ],
      "metadata": {
        "id": "v0SyOEy35Mfx"
      },
      "execution_count": null,
      "outputs": []
    },
    {
      "cell_type": "markdown",
      "source": [
        "##### 1. Why did you pick the specific chart?"
      ],
      "metadata": {
        "id": "D5ISsdjw5Mfx"
      }
    },
    {
      "cell_type": "markdown",
      "source": [
        "\n",
        "\n",
        "<b>The specific chart was picked to show the monthly popularity of demand of bikes, where each bar represents the number of bike rentals for a specific month. This chart provides a clear and concise way of comparing the popularity of bike rentals across different months."
      ],
      "metadata": {
        "id": "B4GCwdQL5Mfx"
      }
    },
    {
      "cell_type": "markdown",
      "source": [
        "##### 2. What is/are the insight(s) found from the chart?"
      ],
      "metadata": {
        "id": "nm7Apcsa5Mfx"
      }
    },
    {
      "cell_type": "markdown",
      "source": [
        "\n",
        "\n",
        "<b>We can observe that there is almost same or constant bike deemand but somewhat low in the month of February"
      ],
      "metadata": {
        "id": "8uELa0wX5Mfx"
      }
    },
    {
      "cell_type": "markdown",
      "source": [
        "##### 3. Will the gained insights help creating a positive business impact? \n",
        "Are there any insights that lead to negative growth? Justify with specific reason."
      ],
      "metadata": {
        "id": "WuWavYNV5Mfy"
      }
    },
    {
      "cell_type": "markdown",
      "source": [
        "Answer Here\n",
        "\n",
        "<b>The gained insights can help create a positive business impact. For example, the business can use this information to plan their inventory and maintenance schedules. They can also use this information to create targeted marketing campaigns to promote bike rentals during months that have historically lower demand."
      ],
      "metadata": {
        "id": "aRw5i9qj5Mfy"
      }
    },
    {
      "cell_type": "markdown",
      "source": [
        "#### Chart - 7"
      ],
      "metadata": {
        "id": "Va-WyYow5Mfy"
      }
    },
    {
      "cell_type": "code",
      "source": [
        "# Chart - 7 visualization code\n",
        "\n",
        "plt.figure(figsize=(20,15))\n",
        "count= 1\n",
        "\n",
        "for column in df.select_dtypes(include = 'number').columns[1:7]:   \n",
        "    plt.subplot(6, 2,count)\n",
        "    count += 1\n",
        "    # Ploting Lineplot\n",
        "    plt.title(f'{column}, VS Rented Bike Count')\n",
        "    sns.lineplot(x=df[column],y=df['Rented Bike Count'])\n",
        "    plt.subplot(6, 2,count)\n",
        "    count += 1\n",
        "    # Ploting Scatter Plot\n",
        "    plt.title(f'{column}, VS Rented Bike Count')\n",
        "    sns.scatterplot(x=df[column],y=df['Rented Bike Count'])\n",
        "    \n",
        "    plt.tight_layout()"
      ],
      "metadata": {
        "id": "XXVbi2-m5Mfy"
      },
      "execution_count": null,
      "outputs": []
    },
    {
      "cell_type": "markdown",
      "source": [
        "##### 1. Why did you pick the specific chart?"
      ],
      "metadata": {
        "id": "tiMlIx1q5Mfy"
      }
    },
    {
      "cell_type": "markdown",
      "source": [
        "\n",
        "<b>To visualize the relationship between each numerical feature and the target variable 'Rented Bike Count'. By using both line plot and scatter plot, we can see the trend and the distribution of the data points respectively. These insights can help us identify any correlation between the features and the target variable, and can be used to create more accurate predictive models."
      ],
      "metadata": {
        "id": "u2KGoxxT5Mfy"
      }
    },
    {
      "cell_type": "markdown",
      "source": [
        "##### 2. What is/are the insight(s) found from the chart?"
      ],
      "metadata": {
        "id": "XnLg3i_05Mfy"
      }
    },
    {
      "cell_type": "markdown",
      "source": [
        "\n",
        "<b>In the morning there is not that much deemand but after 10 AM rental bike deemand rises as customers have their working timings and afte 7PM-8PM it starts drop as customers are done with there daily work so thats why they donot requires rental bikes.\n",
        "\n",
        "when temorature is low it is very low chance of having booking of rental bike but as the temperature starts rising the demand starts increase.\n",
        "\n",
        "Whenever the humidity is lower customers has more demand of the rental bikes but in the higher humidity the demand also decreases.\n",
        "\n",
        "At moderate windspeed there is not effect on rental bike demand but at higher windspeed there is quite low demand of rental bikes i.e there is deemand but very less number of customers tends to have rental bikes.\n",
        "\n",
        "Low visibility tends to have less demand of rental bikes other wise it doesn't effect in the rental bike demand.\n",
        "As the dew point is very low than the deemand also decreases as it is harder for the people to go outside so the demand is low."
      ],
      "metadata": {
        "id": "_fFYMCGb5Mfy"
      }
    },
    {
      "cell_type": "markdown",
      "source": [
        "##### 3. Will the gained insights help creating a positive business impact? \n",
        "Are there any insights that lead to negative growth? Justify with specific reason."
      ],
      "metadata": {
        "id": "-7dzH3Pf5Mfy"
      }
    },
    {
      "cell_type": "markdown",
      "source": [
        "\n",
        "<b>As for the impact on business growth, if we find a strong positive correlation between a feature and the target variable, we can use this information to optimize the bike rental services in that aspect to improve customer satisfaction and increase revenue. On the other hand, if there is a negative correlation between a feature and the target variable, we can identify the potential areas of improvement and take corrective measures to prevent negative growth."
      ],
      "metadata": {
        "id": "uedHEOs85Mfy"
      }
    },
    {
      "cell_type": "code",
      "source": [
        "df.columns"
      ],
      "metadata": {
        "id": "2aFru3CRClAQ"
      },
      "execution_count": null,
      "outputs": []
    },
    {
      "cell_type": "markdown",
      "source": [
        "#### Chart - 8"
      ],
      "metadata": {
        "id": "CAyuYl5k5Mfy"
      }
    },
    {
      "cell_type": "code",
      "source": [
        "# Chart - 8 visualization code\n",
        "plt.figure(figsize=(20,15))\n",
        "count= 1\n",
        "\n",
        "for column in df.select_dtypes(include = 'number').columns[7:-2]:   \n",
        "    plt.subplot(5, 2,count)\n",
        "    count += 1\n",
        "    # Ploting Lineplot\n",
        "    plt.title(f'{column}, VS Rented Bike Count')\n",
        "    sns.lineplot(x=df[column],y=df['Rented Bike Count'])\n",
        "    \n",
        "    plt.subplot(5, 2,count)\n",
        "    count += 1\n",
        "    \n",
        "    # Ploting Scatter Plot\n",
        "    plt.title(f'{column}, VS Rented Bike Count')\n",
        "    sns.scatterplot(x=df[column],y=df['Rented Bike Count'])\n",
        "    \n",
        "    plt.tight_layout()"
      ],
      "metadata": {
        "id": "Y2GmVh2g5Mfy"
      },
      "execution_count": null,
      "outputs": []
    },
    {
      "cell_type": "markdown",
      "source": [
        "##### 1. Why did you pick the specific chart?"
      ],
      "metadata": {
        "id": "Hmm5v8625Mfz"
      }
    },
    {
      "cell_type": "markdown",
      "source": [
        "\n",
        "\n",
        "<b>The charts were chosen to explore the relationship between the numeric variables and the target variable (Rented Bike Count) in different ways (line plot and scatter plot). The insights gained from these charts can help identify which variables have a positive or negative impact on the demand for bikes, and can inform decisions on how to optimize bike rental services to meet demand."
      ],
      "metadata": {
        "id": "Slrcj7IE5Mfz"
      }
    },
    {
      "cell_type": "markdown",
      "source": [
        "##### 2. What is/are the insight(s) found from the chart?"
      ],
      "metadata": {
        "id": "wDBGKcVQ5Mfz"
      }
    },
    {
      "cell_type": "markdown",
      "source": [
        "\n",
        "<b>We can observe from the above result that if the solar radiation is low then the rented bike demand is high as if it tends to increase the rented bike demand starts to decrease.\n",
        "Also the Rainfall rate is lower, Higher the rented bike demand.\n",
        "Snow fall rate also indicates the same as rain if snow fall rate is higher then the rented bike demand is lower and vice-versa."
      ],
      "metadata": {
        "id": "qpmKyIwf5Mfz"
      }
    },
    {
      "cell_type": "markdown",
      "source": [
        "##### 3. Will the gained insights help creating a positive business impact? \n",
        "Are there any insights that lead to negative growth? Justify with specific reason."
      ],
      "metadata": {
        "id": "GLXzJvt55Mfz"
      }
    },
    {
      "cell_type": "markdown",
      "source": [
        "\n",
        "<b>The charts show that variables such as temperature, humidity, windspeed, and visibility have a positive correlation with the demand for bikes, while variables such as precipitation and snowfall have a negative correlation. This insight can help businesses make decisions on how to optimize their services and resources based on weather forecasts."
      ],
      "metadata": {
        "id": "JsXH770t5Mfz"
      }
    },
    {
      "cell_type": "markdown",
      "source": [
        "#### Chart - 9"
      ],
      "metadata": {
        "id": "IWolXPcx5Mfz"
      }
    },
    {
      "cell_type": "code",
      "source": [
        "# Chart - 9 visualization code\n",
        "\n",
        "plt.figure(figsize=(20,15))\n",
        "count= 1\n",
        "\n",
        "for column in df.select_dtypes(include = 'object').columns:   \n",
        "    plt.subplot(5, 2,count)\n",
        "    count += 1\n",
        "    \n",
        "    plt.title(f'{column}, VS Rented Bike Count')\n",
        "    sns.barplot(x=df[column],y=df['Rented Bike Count'])\n",
        "    \n",
        "    plt.subplot(5,2,count)\n",
        "    \n",
        "    count+= 1\n",
        "    plt.title(f'{column}, VS Rented Bike Count')\n",
        "    sns.boxplot(x=df[column],y=df['Rented Bike Count'])\n",
        "    \n",
        "    plt.tight_layout()"
      ],
      "metadata": {
        "id": "wZrktVmL5Mfz"
      },
      "execution_count": null,
      "outputs": []
    },
    {
      "cell_type": "markdown",
      "source": [
        "##### 1. Why did you pick the specific chart?"
      ],
      "metadata": {
        "id": "Kqw_wAQN5Mfz"
      }
    },
    {
      "cell_type": "markdown",
      "source": [
        "\n",
        "<b>Barplot and Boxplot is used in this code snippet to visualize the relationship between categorical variables and the target variable 'Rented Bike Count'.\n",
        "\n",
        "Barplot is used because it shows the mean or median of 'Rented Bike Count' for each category of the categorical variable. It can give an idea of which categories have higher or lower bike rental counts.\n",
        "\n",
        "Boxplot is used because it shows the distribution of 'Rented Bike Count' for each category of the categorical variable. It can give an idea of the variability of bike rental counts within each category and help identify outliers."
      ],
      "metadata": {
        "id": "n058_gBz5Mfz"
      }
    },
    {
      "cell_type": "markdown",
      "source": [
        "##### 2. What is/are the insight(s) found from the chart?"
      ],
      "metadata": {
        "id": "Bv7lj5MB5Mfz"
      }
    },
    {
      "cell_type": "markdown",
      "source": [
        "<b>Here we can observe that there is quit less demand of rented bikes in the winter season and higher deemand in summer season.\n",
        "\n",
        "Non Holidays are having high deemand of rental bikes rather than Holidays.\n",
        "When there is fuctioning day the customers ends to have rental bikes but in non functioning day there is no deemand of rental bikes.\n",
        "\n",
        "on weekends there is less demand of rental bikes may due to on weekends people do not have functioning day.\n",
        "\n",
        "from year end to feb there is drop in rental bike deemand at due to the winter season and in other whole year there is high deemand of rental bikes."
      ],
      "metadata": {
        "id": "XQIDlpxz5Mf0"
      }
    },
    {
      "cell_type": "markdown",
      "source": [
        "##### 3. Will the gained insights help creating a positive business impact? \n",
        "Are there any insights that lead to negative growth? Justify with specific reason."
      ],
      "metadata": {
        "id": "oRGvGZz35Mf0"
      }
    },
    {
      "cell_type": "markdown",
      "source": [
        "\n",
        "<b>The insights gained from these charts can help create a positive business impact. For example, if a specific category has a higher bike rental count, the business can focus on promoting bike rentals in that category to increase revenue. On the other hand, if a specific category has a lower bike rental count, the business can investigate why and try to improve the rental experience in that category."
      ],
      "metadata": {
        "id": "w7N3fGEn5Mf0"
      }
    },
    {
      "cell_type": "markdown",
      "source": [
        "#### Chart - 10"
      ],
      "metadata": {
        "id": "gNp6GILc5Mf0"
      }
    },
    {
      "cell_type": "code",
      "source": [
        "# Chart - 10 visualization code\n",
        "\n",
        "plt.figure(figsize = (10,5))\n",
        "\n",
        "plt.pie(df['year'].value_counts(),labels = df['year'].value_counts().keys().tolist(),autopct='%.2f%%',explode = [0,0.2])\n",
        "\n",
        "plt.title('Yealy Rented Bike Percentage')\n",
        "\n",
        "plt.show()"
      ],
      "metadata": {
        "id": "u9okZ3kI5Mf0"
      },
      "execution_count": null,
      "outputs": []
    },
    {
      "cell_type": "markdown",
      "source": [
        "##### 1. Why did you pick the specific chart?"
      ],
      "metadata": {
        "id": "Re50kItz5Mf0"
      }
    },
    {
      "cell_type": "markdown",
      "source": [
        "\n",
        "<b>Pie chart is used to show the percentage of rented bikes each year."
      ],
      "metadata": {
        "id": "uquU-Lkv5Mf0"
      }
    },
    {
      "cell_type": "markdown",
      "source": [
        "##### 2. What is/are the insight(s) found from the chart?"
      ],
      "metadata": {
        "id": "pETE5s0r5Mf0"
      }
    },
    {
      "cell_type": "markdown",
      "source": [
        "\n",
        "<b>We can see that 2017 has very less count of demand as it is due to the less availability of the data for the year 2017."
      ],
      "metadata": {
        "id": "CnfWmT3h5Mf0"
      }
    },
    {
      "cell_type": "markdown",
      "source": [
        "##### 3. Will the gained insights help creating a positive business impact? \n",
        "Are there any insights that lead to negative growth? Justify with specific reason."
      ],
      "metadata": {
        "id": "SdxS5xXQ5Mf0"
      }
    },
    {
      "cell_type": "markdown",
      "source": [
        "\n",
        "<b>The insights gained from this chart can help create a positive business impact. For example, if there was a significant increase in the percentage of rented bikes in a particular year, the business can investigate what factors contributed to this increase and try to replicate them in future years to increase revenue."
      ],
      "metadata": {
        "id": "o-BtPmRB5Mf0"
      }
    },
    {
      "cell_type": "markdown",
      "source": [
        "#### Chart - 11"
      ],
      "metadata": {
        "id": "b6CUTA9-5Mf0"
      }
    },
    {
      "cell_type": "code",
      "source": [
        "# Chart - 11 visualization code"
      ],
      "metadata": {
        "id": "BSYaqggX5Mf0"
      },
      "execution_count": null,
      "outputs": []
    },
    {
      "cell_type": "markdown",
      "source": [
        "##### 1. Why did you pick the specific chart?"
      ],
      "metadata": {
        "id": "QTGzLXdB5Mf1"
      }
    },
    {
      "cell_type": "markdown",
      "source": [
        "Answer Here."
      ],
      "metadata": {
        "id": "GjRAAZpv5Mf1"
      }
    },
    {
      "cell_type": "markdown",
      "source": [
        "##### 2. What is/are the insight(s) found from the chart?"
      ],
      "metadata": {
        "id": "DVkZSKhH5Mf1"
      }
    },
    {
      "cell_type": "markdown",
      "source": [
        "Answer Here"
      ],
      "metadata": {
        "id": "lKZTKRfG5Mf1"
      }
    },
    {
      "cell_type": "markdown",
      "source": [
        "##### 3. Will the gained insights help creating a positive business impact? \n",
        "Are there any insights that lead to negative growth? Justify with specific reason."
      ],
      "metadata": {
        "id": "iPaP7L_q5Mf1"
      }
    },
    {
      "cell_type": "markdown",
      "source": [
        "Answer Here"
      ],
      "metadata": {
        "id": "rgKb81El5Mf1"
      }
    },
    {
      "cell_type": "markdown",
      "source": [
        "#### Chart - 12"
      ],
      "metadata": {
        "id": "OonsWf3x5Mf2"
      }
    },
    {
      "cell_type": "code",
      "source": [
        "# Chart - 12 visualization code"
      ],
      "metadata": {
        "id": "NTO9wuPH5Mf2"
      },
      "execution_count": null,
      "outputs": []
    },
    {
      "cell_type": "markdown",
      "source": [
        "##### 1. Why did you pick the specific chart?"
      ],
      "metadata": {
        "id": "J2lAeqcS5Mf2"
      }
    },
    {
      "cell_type": "markdown",
      "source": [
        "Answer Here."
      ],
      "metadata": {
        "id": "Z4EZwpgx5Mf2"
      }
    },
    {
      "cell_type": "markdown",
      "source": [
        "##### 2. What is/are the insight(s) found from the chart?"
      ],
      "metadata": {
        "id": "XbqSrC1y5Mf2"
      }
    },
    {
      "cell_type": "markdown",
      "source": [
        "Answer Here"
      ],
      "metadata": {
        "id": "jvUXZFzz5Mf2"
      }
    },
    {
      "cell_type": "markdown",
      "source": [
        "##### 3. Will the gained insights help creating a positive business impact? \n",
        "Are there any insights that lead to negative growth? Justify with specific reason."
      ],
      "metadata": {
        "id": "-b6gS6sV5Mf2"
      }
    },
    {
      "cell_type": "markdown",
      "source": [
        "Answer Here"
      ],
      "metadata": {
        "id": "fjTMirOZ5Mf2"
      }
    },
    {
      "cell_type": "markdown",
      "source": [
        "#### Chart - 13"
      ],
      "metadata": {
        "id": "7lWXV54Q5Mf2"
      }
    },
    {
      "cell_type": "code",
      "source": [
        "# Chart - 13 visualization code"
      ],
      "metadata": {
        "id": "Jf5UaPFo5Mf2"
      },
      "execution_count": null,
      "outputs": []
    },
    {
      "cell_type": "markdown",
      "source": [
        "##### 1. Why did you pick the specific chart?"
      ],
      "metadata": {
        "id": "BKX30Ao05Mf2"
      }
    },
    {
      "cell_type": "markdown",
      "source": [
        "Answer Here."
      ],
      "metadata": {
        "id": "kauT_UGx5Mf2"
      }
    },
    {
      "cell_type": "markdown",
      "source": [
        "##### 2. What is/are the insight(s) found from the chart?"
      ],
      "metadata": {
        "id": "R1V-BjBW5Mf2"
      }
    },
    {
      "cell_type": "markdown",
      "source": [
        "Answer Here"
      ],
      "metadata": {
        "id": "Csf93IYw5Mf2"
      }
    },
    {
      "cell_type": "markdown",
      "source": [
        "##### 3. Will the gained insights help creating a positive business impact? \n",
        "Are there any insights that lead to negative growth? Justify with specific reason."
      ],
      "metadata": {
        "id": "W26U-2tC5Mf2"
      }
    },
    {
      "cell_type": "markdown",
      "source": [
        "Answer Here"
      ],
      "metadata": {
        "id": "yifZ0c7x5Mf3"
      }
    },
    {
      "cell_type": "markdown",
      "source": [
        "#### Chart - 14 - Correlation Heatmap"
      ],
      "metadata": {
        "id": "5ZLh5VJr5Mf3"
      }
    },
    {
      "cell_type": "code",
      "source": [
        "# Correlation Heatmap visualization code\n",
        "# Checking Correlation\n",
        "\n",
        "plt.figure(figsize=(20,10))\n",
        "\n",
        "cor = df.corr() # getting correlation using corr() function\n",
        "\n",
        "sns.heatmap(cor, annot=True)\n",
        "\n",
        "plt.title(\"Checking Correlation\")\n",
        "plt.show()"
      ],
      "metadata": {
        "id": "8Dznliac5Mf3"
      },
      "execution_count": null,
      "outputs": []
    },
    {
      "cell_type": "code",
      "source": [
        "# with the following function we can select highly correlated features\n",
        "# it will remove the first feature that is correlated with anything other feature\n",
        "\n",
        "def correlation(dataset, threshold):\n",
        "    col_corr = set()  # Set of all the names of correlated columns\n",
        "    corr_matrix = dataset.corr()\n",
        "    for i in range(len(corr_matrix.columns)):\n",
        "        for j in range(i):\n",
        "            if abs(corr_matrix.iloc[i, j]) > threshold: # we are interested in absolute coeff value\n",
        "                colname = corr_matrix.columns[i]  # getting the name of column\n",
        "                col_corr.add(colname)\n",
        "    return col_corr\n",
        "     "
      ],
      "metadata": {
        "id": "3gX6iihZ5Mf3"
      },
      "execution_count": null,
      "outputs": []
    },
    {
      "cell_type": "code",
      "source": [
        "# Calling the finction with threshold value 0.80\n",
        "\n",
        "corr_features = correlation(df, 0.80)\n",
        "print('Number of correlated features :',len(set(corr_features))) # getting the length of the number of correlated features"
      ],
      "metadata": {
        "id": "1FkSgKEL5Mf3"
      },
      "execution_count": null,
      "outputs": []
    },
    {
      "cell_type": "code",
      "source": [
        "print('Correlated Features :')\n",
        "corr_features"
      ],
      "metadata": {
        "id": "blWmwF-T5Mf3"
      },
      "execution_count": null,
      "outputs": []
    },
    {
      "cell_type": "code",
      "source": [
        "df.drop(['Dew point temperature(°C)'], axis = 1, inplace = True)"
      ],
      "metadata": {
        "id": "0h02Bq7G5Mf3"
      },
      "execution_count": null,
      "outputs": []
    },
    {
      "cell_type": "code",
      "source": [
        "df.drop(['Date'], axis = 1, inplace = True)"
      ],
      "metadata": {
        "id": "GuNOZfYD5Mf3"
      },
      "execution_count": null,
      "outputs": []
    },
    {
      "cell_type": "markdown",
      "source": [
        "##### 1. Why did you pick the specific chart?"
      ],
      "metadata": {
        "id": "TI6Dt8eW5Mf3"
      }
    },
    {
      "cell_type": "markdown",
      "source": [
        "Answer Here."
      ],
      "metadata": {
        "id": "xrLkqG6d5Mf3"
      }
    },
    {
      "cell_type": "markdown",
      "source": [
        "##### 2. What is/are the insight(s) found from the chart?"
      ],
      "metadata": {
        "id": "hMFmshse5Mf3"
      }
    },
    {
      "cell_type": "markdown",
      "source": [
        "Answer Here"
      ],
      "metadata": {
        "id": "m1249Wog5Mf4"
      }
    },
    {
      "cell_type": "markdown",
      "source": [
        "#### Chart - 15 - Pair Plot "
      ],
      "metadata": {
        "id": "jAOMUbMb5Mf4"
      }
    },
    {
      "cell_type": "code",
      "source": [
        "# Pair Plot visualization code\n",
        "sns.pairplot(df)"
      ],
      "metadata": {
        "id": "nz01RyTk5Mf4"
      },
      "execution_count": null,
      "outputs": []
    },
    {
      "cell_type": "markdown",
      "source": [
        "##### 1. Why did you pick the specific chart?"
      ],
      "metadata": {
        "id": "N2ImTn1i5Mf4"
      }
    },
    {
      "cell_type": "markdown",
      "source": [
        "Answer Here."
      ],
      "metadata": {
        "id": "_hkyOgKs5Mf4"
      }
    },
    {
      "cell_type": "markdown",
      "source": [
        "##### 2. What is/are the insight(s) found from the chart?"
      ],
      "metadata": {
        "id": "OnxfRvgM5Mf4"
      }
    },
    {
      "cell_type": "markdown",
      "source": [
        "Answer Here"
      ],
      "metadata": {
        "id": "A6Mg9Xwq5Mf4"
      }
    },
    {
      "cell_type": "markdown",
      "source": [
        "## ***5. Hypothesis Testing***"
      ],
      "metadata": {
        "id": "tpGN9H565Mf4"
      }
    },
    {
      "cell_type": "markdown",
      "source": [
        "### Based on your chart experiments, define three hypothetical statements from the dataset. In the next three questions, perform hypothesis testing to obtain final conclusion about the statements through your code and statistical testing."
      ],
      "metadata": {
        "id": "_T--A3Kx5Mf4"
      }
    },
    {
      "cell_type": "markdown",
      "source": [
        "Answer Here."
      ],
      "metadata": {
        "id": "d6h8IBYF5Mf4"
      }
    },
    {
      "cell_type": "markdown",
      "source": [
        "### Hypothetical Statement - 1"
      ],
      "metadata": {
        "id": "T1PjlAvx5Mf5"
      }
    },
    {
      "cell_type": "markdown",
      "source": [
        "#### 1. State Your research hypothesis as a null hypothesis and alternate hypothesis."
      ],
      "metadata": {
        "id": "y5o30Ar15Mf5"
      }
    },
    {
      "cell_type": "markdown",
      "source": [
        "Answer Here."
      ],
      "metadata": {
        "id": "4ID578J35Mf5"
      }
    },
    {
      "cell_type": "markdown",
      "source": [
        "#### 2. Perform an appropriate statistical test."
      ],
      "metadata": {
        "id": "mu-dzJJd5Mf5"
      }
    },
    {
      "cell_type": "code",
      "source": [
        "# Perform Statistical Test to obtain P-Value"
      ],
      "metadata": {
        "id": "xebEGM-g5Mf5"
      },
      "execution_count": null,
      "outputs": []
    },
    {
      "cell_type": "markdown",
      "source": [
        "##### Which statistical test have you done to obtain P-Value?"
      ],
      "metadata": {
        "id": "JDLwe2tS5Mf5"
      }
    },
    {
      "cell_type": "markdown",
      "source": [
        "Answer Here."
      ],
      "metadata": {
        "id": "8WZcVJDQ5Mf5"
      }
    },
    {
      "cell_type": "markdown",
      "source": [
        "##### Why did you choose the specific statistical test?"
      ],
      "metadata": {
        "id": "NeiFYP3s5Mf5"
      }
    },
    {
      "cell_type": "markdown",
      "source": [
        "Answer Here."
      ],
      "metadata": {
        "id": "ZJr4q1-c5Mf5"
      }
    },
    {
      "cell_type": "markdown",
      "source": [
        "### Hypothetical Statement - 2"
      ],
      "metadata": {
        "id": "Xw3PG4fh5Mf5"
      }
    },
    {
      "cell_type": "markdown",
      "source": [
        "#### 1. State Your research hypothesis as a null hypothesis and alternate hypothesis."
      ],
      "metadata": {
        "id": "p8-i-1pm5Mf5"
      }
    },
    {
      "cell_type": "markdown",
      "source": [
        "Answer Here."
      ],
      "metadata": {
        "id": "aBmMQ-tU5Mf5"
      }
    },
    {
      "cell_type": "markdown",
      "source": [
        "#### 2. Perform an appropriate statistical test."
      ],
      "metadata": {
        "id": "yhB4br2K5Mf5"
      }
    },
    {
      "cell_type": "code",
      "source": [
        "# Perform Statistical Test to obtain P-Value"
      ],
      "metadata": {
        "id": "ucbeRXbU5Mf5"
      },
      "execution_count": null,
      "outputs": []
    },
    {
      "cell_type": "markdown",
      "source": [
        "##### Which statistical test have you done to obtain P-Value?"
      ],
      "metadata": {
        "id": "xZnf6xUV5Mf5"
      }
    },
    {
      "cell_type": "markdown",
      "source": [
        "Answer Here."
      ],
      "metadata": {
        "id": "8zX3Q82M5Mf6"
      }
    },
    {
      "cell_type": "markdown",
      "source": [
        "##### Why did you choose the specific statistical test?"
      ],
      "metadata": {
        "id": "gRWGPC6u5Mf6"
      }
    },
    {
      "cell_type": "markdown",
      "source": [
        "Answer Here."
      ],
      "metadata": {
        "id": "mqeXAoit5Mf6"
      }
    },
    {
      "cell_type": "markdown",
      "source": [
        "### Hypothetical Statement - 3"
      ],
      "metadata": {
        "id": "DUltoRBb5Mf6"
      }
    },
    {
      "cell_type": "markdown",
      "source": [
        "#### 1. State Your research hypothesis as a null hypothesis and alternate hypothesis."
      ],
      "metadata": {
        "id": "W6hDUK0V5Mf6"
      }
    },
    {
      "cell_type": "markdown",
      "source": [
        "Answer Here."
      ],
      "metadata": {
        "id": "eUrGd3xL5Mf6"
      }
    },
    {
      "cell_type": "markdown",
      "source": [
        "#### 2. Perform an appropriate statistical test."
      ],
      "metadata": {
        "id": "TI4e2Gv05Mf6"
      }
    },
    {
      "cell_type": "code",
      "source": [
        "# Perform Statistical Test to obtain P-Value"
      ],
      "metadata": {
        "id": "gAEKIEfy5Mf6"
      },
      "execution_count": null,
      "outputs": []
    },
    {
      "cell_type": "markdown",
      "source": [
        "##### Which statistical test have you done to obtain P-Value?"
      ],
      "metadata": {
        "id": "gmAFW-LK5Mf6"
      }
    },
    {
      "cell_type": "markdown",
      "source": [
        "Answer Here."
      ],
      "metadata": {
        "id": "EeqxJbBQ5Mf6"
      }
    },
    {
      "cell_type": "markdown",
      "source": [
        "##### Why did you choose the specific statistical test?"
      ],
      "metadata": {
        "id": "Fsk4f03N5Mf6"
      }
    },
    {
      "cell_type": "markdown",
      "source": [
        "Answer Here."
      ],
      "metadata": {
        "id": "OL7RSGwi5Mf6"
      }
    },
    {
      "cell_type": "markdown",
      "source": [
        "## ***6. Feature Engineering & Data Pre-processing***"
      ],
      "metadata": {
        "id": "h2vvm1Qo5Mf6"
      }
    },
    {
      "cell_type": "markdown",
      "source": [
        "### 1. Handling Missing Values"
      ],
      "metadata": {
        "id": "JhD9L3dZ5Mf6"
      }
    },
    {
      "cell_type": "code",
      "source": [
        "# Handling Missing Values & Missing Value Imputation"
      ],
      "metadata": {
        "id": "pPwEod0q5Mf6"
      },
      "execution_count": null,
      "outputs": []
    },
    {
      "cell_type": "markdown",
      "source": [
        "#### What all missing value imputation techniques have you used and why did you use those techniques?"
      ],
      "metadata": {
        "id": "vB3B-u005Mf7"
      }
    },
    {
      "cell_type": "markdown",
      "source": [
        "Answer Here."
      ],
      "metadata": {
        "id": "7Wlyq7To5Mf7"
      }
    },
    {
      "cell_type": "markdown",
      "source": [
        "### 2. Handling Outliers"
      ],
      "metadata": {
        "id": "m7FaLz3I5Mf7"
      }
    },
    {
      "cell_type": "code",
      "source": [
        "# Handling Outliers & Outlier treatments"
      ],
      "metadata": {
        "id": "kGnSzdhk5Mf7"
      },
      "execution_count": null,
      "outputs": []
    },
    {
      "cell_type": "markdown",
      "source": [
        "##### What all outlier treatment techniques have you used and why did you use those techniques?"
      ],
      "metadata": {
        "id": "H80LjK7X5Mf7"
      }
    },
    {
      "cell_type": "markdown",
      "source": [
        "Answer Here."
      ],
      "metadata": {
        "id": "hxxZiW1b5Mf7"
      }
    },
    {
      "cell_type": "markdown",
      "source": [
        "### 3. Categorical Encoding"
      ],
      "metadata": {
        "id": "3-Q1-HLz5Mf7"
      }
    },
    {
      "cell_type": "code",
      "source": [
        "# Encode your categorical columns"
      ],
      "metadata": {
        "id": "YtMBxacB5Mf7"
      },
      "execution_count": null,
      "outputs": []
    },
    {
      "cell_type": "markdown",
      "source": [
        "#### What all categorical encoding techniques have you used & why did you use those techniques?"
      ],
      "metadata": {
        "id": "Aqg_6jxt5Mf7"
      }
    },
    {
      "cell_type": "markdown",
      "source": [
        "Answer Here."
      ],
      "metadata": {
        "id": "9odaErCG5Mf7"
      }
    },
    {
      "cell_type": "markdown",
      "source": [
        "### 4. Textual Data Preprocessing \n",
        "(It's mandatory for textual dataset i.e., NLP, Sentiment Analysis, Text Clustering etc.)"
      ],
      "metadata": {
        "id": "vGaOTUu75Mf7"
      }
    },
    {
      "cell_type": "markdown",
      "source": [
        "#### 1. Expand Contraction"
      ],
      "metadata": {
        "id": "ye6Jrbwl5Mf7"
      }
    },
    {
      "cell_type": "code",
      "source": [
        "# Expand Contraction"
      ],
      "metadata": {
        "id": "VxiVvC4Z5Mf7"
      },
      "execution_count": null,
      "outputs": []
    },
    {
      "cell_type": "markdown",
      "source": [
        "#### 2. Lower Casing"
      ],
      "metadata": {
        "id": "BwCpcWLY5Mf7"
      }
    },
    {
      "cell_type": "code",
      "source": [
        "# Lower Casing"
      ],
      "metadata": {
        "id": "jlbe0Bkg5Mf7"
      },
      "execution_count": null,
      "outputs": []
    },
    {
      "cell_type": "markdown",
      "source": [
        "#### 3. Removing Punctuations"
      ],
      "metadata": {
        "id": "OhHKxJt-5Mf8"
      }
    },
    {
      "cell_type": "code",
      "source": [
        "# Remove Punctuations"
      ],
      "metadata": {
        "id": "B2B0wjJa5Mf8"
      },
      "execution_count": null,
      "outputs": []
    },
    {
      "cell_type": "markdown",
      "source": [
        "#### 4. Removing URLs & Removing words and digits contain digits."
      ],
      "metadata": {
        "id": "T_rlOcXc5Mf8"
      }
    },
    {
      "cell_type": "code",
      "source": [
        "# Remove URLs & Remove words and digits contain digits"
      ],
      "metadata": {
        "id": "q5y4uAah5Mf8"
      },
      "execution_count": null,
      "outputs": []
    },
    {
      "cell_type": "markdown",
      "source": [
        "#### 5. Removing Stopwords & Removing White spaces"
      ],
      "metadata": {
        "id": "l7edQaQq5Mf8"
      }
    },
    {
      "cell_type": "code",
      "source": [
        "# Remove Stopwords"
      ],
      "metadata": {
        "id": "OIrwG4PA5Mf8"
      },
      "execution_count": null,
      "outputs": []
    },
    {
      "cell_type": "code",
      "source": [
        "# Remove White spaces"
      ],
      "metadata": {
        "id": "-WKxL1WX5Mf8"
      },
      "execution_count": null,
      "outputs": []
    },
    {
      "cell_type": "markdown",
      "source": [
        "#### 6. Rephrase Text"
      ],
      "metadata": {
        "id": "2WYeio2p5Mf8"
      }
    },
    {
      "cell_type": "code",
      "source": [
        "# Rephrase Text"
      ],
      "metadata": {
        "id": "sakO7HQI5Mf8"
      },
      "execution_count": null,
      "outputs": []
    },
    {
      "cell_type": "markdown",
      "source": [
        "#### 7. Tokenization"
      ],
      "metadata": {
        "id": "BhCWRmb75Mf8"
      }
    },
    {
      "cell_type": "code",
      "source": [
        "# Tokenization"
      ],
      "metadata": {
        "id": "TD7okIeY5Mf9"
      },
      "execution_count": null,
      "outputs": []
    },
    {
      "cell_type": "markdown",
      "source": [
        "#### 8. Text Normalization"
      ],
      "metadata": {
        "id": "Br9t_6V25Mf9"
      }
    },
    {
      "cell_type": "code",
      "source": [
        "# Normalizing Text (i.e., Stemming, Lemmatization etc.)"
      ],
      "metadata": {
        "id": "zQgMM1rX5Mf9"
      },
      "execution_count": null,
      "outputs": []
    },
    {
      "cell_type": "markdown",
      "source": [
        "##### Which text normalization technique have you used and why?"
      ],
      "metadata": {
        "id": "lchJwdeG5Mf9"
      }
    },
    {
      "cell_type": "markdown",
      "source": [
        "Answer Here."
      ],
      "metadata": {
        "id": "shadWX--5Mf9"
      }
    },
    {
      "cell_type": "markdown",
      "source": [
        "#### 9. Part of speech tagging"
      ],
      "metadata": {
        "id": "6m0nwaij5Mf9"
      }
    },
    {
      "cell_type": "code",
      "source": [
        "# POS Taging"
      ],
      "metadata": {
        "id": "lL7WWNVy5Mf9"
      },
      "execution_count": null,
      "outputs": []
    },
    {
      "cell_type": "markdown",
      "source": [
        "#### 10. Text Vectorization"
      ],
      "metadata": {
        "id": "AlpGYRB65Mf9"
      }
    },
    {
      "cell_type": "code",
      "source": [
        "# Vectorizing Text"
      ],
      "metadata": {
        "id": "JyNuWutW5Mf9"
      },
      "execution_count": null,
      "outputs": []
    },
    {
      "cell_type": "markdown",
      "source": [
        "##### Which text vectorization technique have you used and why?"
      ],
      "metadata": {
        "id": "Gx_d5Gjv5Mf9"
      }
    },
    {
      "cell_type": "markdown",
      "source": [
        "Answer Here."
      ],
      "metadata": {
        "id": "TGpovzOp5Mf9"
      }
    },
    {
      "cell_type": "markdown",
      "source": [
        "### 4. Feature Manipulation & Selection"
      ],
      "metadata": {
        "id": "aUJgNqno5Mf-"
      }
    },
    {
      "cell_type": "markdown",
      "source": [
        "#### 1. Feature Manipulation"
      ],
      "metadata": {
        "id": "IJ8Eovm15Mf-"
      }
    },
    {
      "cell_type": "code",
      "source": [
        "# Manipulate Features to minimize feature correlation and create new features"
      ],
      "metadata": {
        "id": "NEU_7btQ5Mf-"
      },
      "execution_count": null,
      "outputs": []
    },
    {
      "cell_type": "markdown",
      "source": [
        "#### 2. Feature Selection"
      ],
      "metadata": {
        "id": "6kQavTVM5Mf-"
      }
    },
    {
      "cell_type": "code",
      "source": [
        "# Select your features wisely to avoid overfitting"
      ],
      "metadata": {
        "id": "-eHXQcwE5Mf-"
      },
      "execution_count": null,
      "outputs": []
    },
    {
      "cell_type": "markdown",
      "source": [
        "##### What all feature selection methods have you used  and why?"
      ],
      "metadata": {
        "id": "nEALWSsd5Mf-"
      }
    },
    {
      "cell_type": "markdown",
      "source": [
        "Answer Here."
      ],
      "metadata": {
        "id": "BwgFrR275Mf-"
      }
    },
    {
      "cell_type": "markdown",
      "source": [
        "##### Which all features you found important and why?"
      ],
      "metadata": {
        "id": "MzGcJvSs5Mf-"
      }
    },
    {
      "cell_type": "markdown",
      "source": [
        "Answer Here."
      ],
      "metadata": {
        "id": "WWeogTLR5Mf-"
      }
    },
    {
      "cell_type": "markdown",
      "source": [
        "### 5. Data Transformation"
      ],
      "metadata": {
        "id": "vqV-NCkN5Mf-"
      }
    },
    {
      "cell_type": "markdown",
      "source": [
        "#### Do you think that your data needs to be transformed? If yes, which transformation have you used. Explain Why?"
      ],
      "metadata": {
        "id": "gWel4lMB5Mf-"
      }
    },
    {
      "cell_type": "code",
      "source": [
        "# Transform Your data\n",
        "# importing LabelEncoder from sklearn\n",
        "\n",
        "from sklearn.preprocessing import LabelEncoder\n",
        " \n",
        "# Creating a instance of label Encoder.\n",
        "labels = LabelEncoder()\n",
        "\n",
        "for i in df.select_dtypes(include = 'object').columns:\n",
        "    \n",
        "    # Using .fit_transform function to fit label\n",
        "    # encoder and return encoded label\n",
        "    df[i] = labels.fit_transform(df[i])"
      ],
      "metadata": {
        "id": "hJNyxKnG5Mf-"
      },
      "execution_count": null,
      "outputs": []
    },
    {
      "cell_type": "code",
      "source": [
        "df.dtypes"
      ],
      "metadata": {
        "id": "CG1189GjQi0R"
      },
      "execution_count": null,
      "outputs": []
    },
    {
      "cell_type": "code",
      "source": [
        "sns.distplot(np.sqrt(df['Rented Bike Count']))"
      ],
      "metadata": {
        "id": "Drf4aJ01QkfD"
      },
      "execution_count": null,
      "outputs": []
    },
    {
      "cell_type": "markdown",
      "source": [
        "### 6. Data Scaling"
      ],
      "metadata": {
        "id": "NKFJbl6r5Mf_"
      }
    },
    {
      "cell_type": "code",
      "source": [
        "# Scaling your data"
      ],
      "metadata": {
        "id": "9EuaNle35Mf_"
      },
      "execution_count": null,
      "outputs": []
    },
    {
      "cell_type": "markdown",
      "source": [
        "##### Which method have you used to scale you data and why?"
      ],
      "metadata": {
        "id": "oHC16Em_5Mf_"
      }
    },
    {
      "cell_type": "markdown",
      "source": [
        "### 7. Dimesionality Reduction"
      ],
      "metadata": {
        "id": "JeLyUlQC5Mf_"
      }
    },
    {
      "cell_type": "markdown",
      "source": [
        "##### Do you think that dimensionality reduction is needed? Explain Why?"
      ],
      "metadata": {
        "id": "TxF2HL4w5Mf_"
      }
    },
    {
      "cell_type": "markdown",
      "source": [
        "Answer Here."
      ],
      "metadata": {
        "id": "v3Egh_IS5Mf_"
      }
    },
    {
      "cell_type": "code",
      "source": [
        "# DImensionality Reduction (If needed)"
      ],
      "metadata": {
        "id": "cjy90q1M5Mf_"
      },
      "execution_count": null,
      "outputs": []
    },
    {
      "cell_type": "markdown",
      "source": [
        "##### Which dimensionality reduction technique have you used and why? (If dimensionality reduction done on dataset.)"
      ],
      "metadata": {
        "id": "H5SwMZIH5Mf_"
      }
    },
    {
      "cell_type": "markdown",
      "source": [
        "Answer Here."
      ],
      "metadata": {
        "id": "cL89FnRA5Mf_"
      }
    },
    {
      "cell_type": "markdown",
      "source": [
        "### 8. Data Splitting"
      ],
      "metadata": {
        "id": "BoyQQ16h5MgA"
      }
    },
    {
      "cell_type": "code",
      "source": [
        "# Split your data to train and test. Choose Splitting ratio wisely."
      ],
      "metadata": {
        "id": "sXWJr-1Z5MgA"
      },
      "execution_count": null,
      "outputs": []
    },
    {
      "cell_type": "markdown",
      "source": [
        "##### What data splitting ratio have you used and why? "
      ],
      "metadata": {
        "id": "9dLWwdlX5MgA"
      }
    },
    {
      "cell_type": "markdown",
      "source": [
        "Answer Here."
      ],
      "metadata": {
        "id": "0ridhU6p5MgA"
      }
    },
    {
      "cell_type": "markdown",
      "source": [
        "### 9. Handling Imbalanced Dataset"
      ],
      "metadata": {
        "id": "Vzl4lzX05MgA"
      }
    },
    {
      "cell_type": "markdown",
      "source": [
        "##### Do you think the dataset is imbalanced? Explain Why."
      ],
      "metadata": {
        "id": "KfZKI7Xg5MgA"
      }
    },
    {
      "cell_type": "markdown",
      "source": [
        "Answer Here."
      ],
      "metadata": {
        "id": "XJYVAh865MgA"
      }
    },
    {
      "cell_type": "code",
      "source": [
        "# Handling Imbalanced Dataset (If needed)"
      ],
      "metadata": {
        "id": "or9YIT_35MgA"
      },
      "execution_count": null,
      "outputs": []
    },
    {
      "cell_type": "markdown",
      "source": [
        "##### What technique did you use to handle the imbalance dataset and why? (If needed to be balanced)"
      ],
      "metadata": {
        "id": "xsHPvuk35MgA"
      }
    },
    {
      "cell_type": "markdown",
      "source": [
        "Answer Here."
      ],
      "metadata": {
        "id": "V9CfasDP5MgA"
      }
    },
    {
      "cell_type": "markdown",
      "source": [
        "## ***7. ML Model Implementation***"
      ],
      "metadata": {
        "id": "TNsr1zrO5bI8"
      }
    },
    {
      "cell_type": "code",
      "source": [
        "x = df.drop(['Rented Bike Count'],axis = 1)\n",
        "y = np.sqrt(df['Rented Bike Count'])"
      ],
      "metadata": {
        "id": "ov_hPrXYQnMX"
      },
      "execution_count": null,
      "outputs": []
    },
    {
      "cell_type": "code",
      "source": [
        "from sklearn.model_selection import train_test_split\n",
        "from sklearn.preprocessing import StandardScaler\n",
        "from sklearn.linear_model import LinearRegression\n",
        "from sklearn.neighbors import KNeighborsRegressor\n",
        "from sklearn.tree import DecisionTreeRegressor\n",
        "from sklearn.ensemble import RandomForestRegressor\n",
        "from xgboost import XGBRegressor\n",
        "from sklearn.ensemble import GradientBoostingRegressor\n",
        "\n",
        "from sklearn.metrics import mean_squared_error, r2_score"
      ],
      "metadata": {
        "id": "3c9iHPsXQosl"
      },
      "execution_count": null,
      "outputs": []
    },
    {
      "cell_type": "code",
      "source": [
        "x_train, x_test, y_train, y_test = train_test_split(x, y, test_size = 0.3, random_state = 1)"
      ],
      "metadata": {
        "id": "CvENFJcYQqk6"
      },
      "execution_count": null,
      "outputs": []
    },
    {
      "cell_type": "markdown",
      "source": [
        "### ML Model - 1"
      ],
      "metadata": {
        "id": "zCtIHqpG5bI9"
      }
    },
    {
      "cell_type": "code",
      "source": [
        "# ML Model - 1 Implementation\n",
        "\n",
        "# Fit the Algorithm\n",
        "\n",
        "# Predict on the model\n",
        "\n",
        "from sklearn.metrics import mean_squared_error, r2_score\n",
        "import pandas as pd\n",
        "import numpy as np\n",
        "\n",
        "# Define the list of models to evaluate\n",
        "models = [\n",
        "    ('Linear Regression', LinearRegression()),\n",
        "    ('K-Nearest Neighbors', KNeighborsRegressor()),\n",
        "    ('Decision Tree', DecisionTreeRegressor()),\n",
        "    ('Random Forest', RandomForestRegressor()),\n",
        "    ('XGBoost', XGBRegressor()),\n",
        "    ('Gradient Boosting', GradientBoostingRegressor())\n",
        "]\n",
        "\n",
        "# Define an empty dictionary to store the results\n",
        "results = {'Model': [], 'Accuracy': [],'MSE': [], 'RMSE': [], 'R2': [], 'Adj R2': []}\n",
        "\n",
        "# Loop over the models and evaluate their performance\n",
        "for name, model in models:\n",
        "    # Scale the data\n",
        "    scaler = StandardScaler()\n",
        "    x_train_scaled = scaler.fit_transform(x_train)\n",
        "    x_test_scaled = scaler.transform(x_test)\n",
        "    \n",
        "    # Fit the model and make predictions\n",
        "    model.fit(x_train_scaled, y_train)\n",
        "    y_pred = model.predict(x_test_scaled)\n",
        "    \n",
        "    # Compute the evaluation metrics\n",
        "    accuracy = model.score(x_test_scaled,y_test)\n",
        "    mse = mean_squared_error(y_test, y_pred)\n",
        "\n",
        "    rmse = np.sqrt(mse)\n",
        "    r2 = r2_score(y_test, y_pred)\n",
        "    adj_r2 = 1 - (1 - r2) * ((x_test_scaled.shape[0] - 1) / \n",
        "                             (x_test_scaled.shape[0] - x_test_scaled.shape[1] - 1))\n",
        "    \n",
        "    # Store the results in the dictionary\n",
        "    \n",
        "    results['Model'].append(name)\n",
        "    results['Accuracy'].append(accuracy)\n",
        "    results['MSE'].append(mse)\n",
        "    results['RMSE'].append(rmse)\n",
        "    results['R2'].append(r2)\n",
        "    results['Adj R2'].append(adj_r2)\n",
        "\n",
        "# Create a DataFrame from the results dictionary\n",
        "df_results = pd.DataFrame(results)\n",
        "\n",
        "# Set the model name as the index\n",
        "df_results.set_index('Model', inplace=True)\n",
        "\n",
        "# Print the results\n",
        "df_results\n"
      ],
      "metadata": {
        "id": "8DdtR3MlRNwe"
      },
      "execution_count": null,
      "outputs": []
    },
    {
      "cell_type": "code",
      "source": [
        "df_results['Accuracy'].plot(kind = 'bar')\n",
        "plt.show()"
      ],
      "metadata": {
        "id": "F5C62Z8BSVAb"
      },
      "execution_count": null,
      "outputs": []
    },
    {
      "cell_type": "code",
      "source": [
        "df_results['MSE'].plot(kind = 'bar')\n",
        "plt.show()"
      ],
      "metadata": {
        "id": "764s7Q2RSfdf"
      },
      "execution_count": null,
      "outputs": []
    },
    {
      "cell_type": "code",
      "source": [
        "df_results['RMSE'].plot(kind = 'bar')\n",
        "plt.show()"
      ],
      "metadata": {
        "id": "cIaGNhVBSkyb"
      },
      "execution_count": null,
      "outputs": []
    },
    {
      "cell_type": "code",
      "source": [
        "df_results['R2'].plot(kind = 'bar')\n",
        "plt.show()"
      ],
      "metadata": {
        "id": "Q5HUqsLSSquJ"
      },
      "execution_count": null,
      "outputs": []
    },
    {
      "cell_type": "code",
      "source": [
        "df_results['Adj R2'].plot(kind = 'bar')\n",
        "plt.show()"
      ],
      "metadata": {
        "id": "awMQHsN7SweU"
      },
      "execution_count": null,
      "outputs": []
    },
    {
      "cell_type": "markdown",
      "source": [
        "#### 1. Explain the ML Model used and it's performance using Evaluation metric Score Chart."
      ],
      "metadata": {
        "id": "TTvUB_555bI-"
      }
    },
    {
      "cell_type": "code",
      "source": [
        "# Visualizing evaluation Metric Score chart"
      ],
      "metadata": {
        "id": "1gB6QMBy5bI-"
      },
      "execution_count": null,
      "outputs": []
    },
    {
      "cell_type": "markdown",
      "source": [
        "#### 2. Cross- Validation & Hyperparameter Tuning"
      ],
      "metadata": {
        "id": "oZ-xNvOh5bI_"
      }
    },
    {
      "cell_type": "code",
      "source": [
        "from sklearn.model_selection import GridSearchCV\n",
        "\n",
        "# Load data and split into X and y\n",
        "data = df\n",
        "X = x\n",
        "\n",
        "# Random Forest hyperparameter tuning\n",
        "rf_params = {\n",
        "    'n_estimators': [100, 200, 300],\n",
        "    'max_depth': [5, 10, 15],\n",
        "    'min_samples_split': [2, 5, 10],\n",
        "    'min_samples_leaf': [1, 2, 4]\n",
        "}\n",
        "rf = RandomForestRegressor(random_state=42)\n",
        "rf_cv = GridSearchCV(rf, rf_params, cv=5)\n",
        "rf_cv.fit(X, y)\n",
        "\n",
        "# XGBoost hyperparameter tuning\n",
        "xgb_params = {\n",
        "    'n_estimators': [100, 200, 300],\n",
        "    'max_depth': [5, 10, 15],\n",
        "    'learning_rate': [0.01, 0.1, 1],\n",
        "    'gamma': [0, 0.1, 1]\n",
        "}\n",
        "xgb = XGBRegressor(random_state=42)\n",
        "xgb_cv = GridSearchCV(xgb, xgb_params, cv=5)\n",
        "xgb_cv.fit(X, y)\n",
        "\n",
        "# Evaluate models on test data\n",
        "models = {\n",
        "    'Linear Regression': LinearRegression(),\n",
        "    'K-Nearest Neighbors': KNeighborsRegressor(),\n",
        "    'Decision Tree': DecisionTreeRegressor(),\n",
        "    'Random Forest': rf_cv.best_estimator_,\n",
        "    'XGBoost': xgb_cv.best_estimator_,\n",
        "    'Gradient Boosting': GradientBoostingRegressor()\n",
        "}\n",
        "metrics = {\n",
        "    'Accuracy': [],\n",
        "    'MSE': [],\n",
        "    'RMSE': [],\n",
        "    'R2': [],\n",
        "    'Adj R2': []\n",
        "}\n",
        "for name, model in models.items():\n",
        "    model.fit(x_train, y_train)\n",
        "    y_pred = model.predict(x_test)\n",
        "    accuracy = model.score(x_test, y_test)\n",
        "    mse = mean_squared_error(y_test, y_pred)\n",
        "    rmse = mean_squared_error(y_test, y_pred, squared=False)\n",
        "    r2 = r2_score(y_test, y_pred)\n",
        "    adj_r2 = 1 - (1 - r2) * (len(y_test) - 1) / (len(y_test) - x_test.shape[1] - 1)\n",
        "    metrics['Accuracy'].append(accuracy)\n",
        "    metrics['MSE'].append(mse)\n",
        "    metrics['RMSE'].append(rmse)\n",
        "    metrics['R2'].append(r2)\n",
        "    metrics['Adj R2'].append(adj_r2)\n",
        "\n",
        "# Show results in dataframe\n",
        "results = pd.DataFrame(metrics, index=models.keys())\n",
        "print(results)\n"
      ],
      "metadata": {
        "id": "t09ACcCT5bI_"
      },
      "execution_count": null,
      "outputs": []
    },
    {
      "cell_type": "markdown",
      "source": [
        "##### Which hyperparameter optimization technique have you used and why?"
      ],
      "metadata": {
        "id": "FbXN38oa5bI_"
      }
    },
    {
      "cell_type": "markdown",
      "source": [
        "Answer Here."
      ],
      "metadata": {
        "id": "y2_BKhEK5bI_"
      }
    },
    {
      "cell_type": "markdown",
      "source": [
        "##### Have you seen any improvement? Note down the improvement with updates Evaluation metric Score Chart."
      ],
      "metadata": {
        "id": "Q1ozl_qo5bI_"
      }
    },
    {
      "cell_type": "markdown",
      "source": [
        "Answer Here."
      ],
      "metadata": {
        "id": "qedjfrim5bI_"
      }
    },
    {
      "cell_type": "markdown",
      "source": [
        "### ML Model - 2"
      ],
      "metadata": {
        "id": "cvQ2Sjp-5bI_"
      }
    },
    {
      "cell_type": "markdown",
      "source": [
        "#### 1. Explain the ML Model used and it's performance using Evaluation metric Score Chart."
      ],
      "metadata": {
        "id": "tm5Pi9G15bI_"
      }
    },
    {
      "cell_type": "code",
      "source": [
        "# Visualizing evaluation Metric Score chart"
      ],
      "metadata": {
        "id": "EykJQQ4q5bI_"
      },
      "execution_count": null,
      "outputs": []
    },
    {
      "cell_type": "markdown",
      "source": [
        "#### 2. Cross- Validation & Hyperparameter Tuning"
      ],
      "metadata": {
        "id": "Y78ETzZX5bJA"
      }
    },
    {
      "cell_type": "code",
      "source": [
        "# ML Model - 1 Implementation with hyperparameter optimization techniques (i.e., GridSearch CV, RandomSearch CV, Bayesian Optimization etc.)\n",
        "\n",
        "# Fit the Algorithm\n",
        "\n",
        "# Predict on the model"
      ],
      "metadata": {
        "id": "FOb56mcB5bJA"
      },
      "execution_count": null,
      "outputs": []
    },
    {
      "cell_type": "markdown",
      "source": [
        "##### Which hyperparameter optimization technique have you used and why?"
      ],
      "metadata": {
        "id": "4PWQMLiJ5bJA"
      }
    },
    {
      "cell_type": "markdown",
      "source": [
        "Answer Here."
      ],
      "metadata": {
        "id": "vq77uhJp5bJA"
      }
    },
    {
      "cell_type": "markdown",
      "source": [
        "##### Have you seen any improvement? Note down the improvement with updates Evaluation metric Score Chart."
      ],
      "metadata": {
        "id": "mo8JC-tY5bJA"
      }
    },
    {
      "cell_type": "markdown",
      "source": [
        "Answer Here."
      ],
      "metadata": {
        "id": "MU_5Wnlq5bJA"
      }
    },
    {
      "cell_type": "markdown",
      "source": [
        "#### 3. Explain each evaluation metric's indication towards business and the business impact pf the ML model used."
      ],
      "metadata": {
        "id": "bcEcUMgS5bJB"
      }
    },
    {
      "cell_type": "markdown",
      "source": [
        "Answer Here."
      ],
      "metadata": {
        "id": "V3tjq7B95bJB"
      }
    },
    {
      "cell_type": "markdown",
      "source": [
        "### ML Model - 3"
      ],
      "metadata": {
        "id": "I1QT04cn5bJB"
      }
    },
    {
      "cell_type": "code",
      "source": [
        "# ML Model - 3 Implementation\n",
        "\n",
        "# Fit the Algorithm\n",
        "\n",
        "# Predict on the model"
      ],
      "metadata": {
        "id": "nOOFPF_a5bJB"
      },
      "execution_count": null,
      "outputs": []
    },
    {
      "cell_type": "markdown",
      "source": [
        "#### 1. Explain the ML Model used and it's performance using Evaluation metric Score Chart."
      ],
      "metadata": {
        "id": "xHXXt2yK5bJB"
      }
    },
    {
      "cell_type": "code",
      "source": [
        "# Visualizing evaluation Metric Score chart"
      ],
      "metadata": {
        "id": "VdTvCZBk5bJB"
      },
      "execution_count": null,
      "outputs": []
    },
    {
      "cell_type": "markdown",
      "source": [
        "#### 2. Cross- Validation & Hyperparameter Tuning"
      ],
      "metadata": {
        "id": "XP3gloAJ5bJB"
      }
    },
    {
      "cell_type": "code",
      "source": [
        "# ML Model - 3 Implementation with hyperparameter optimization techniques (i.e., GridSearch CV, RandomSearch CV, Bayesian Optimization etc.)\n",
        "\n",
        "# Fit the Algorithm\n",
        "\n",
        "# Predict on the model"
      ],
      "metadata": {
        "id": "3mzzAP385bJB"
      },
      "execution_count": null,
      "outputs": []
    },
    {
      "cell_type": "markdown",
      "source": [
        "##### Which hyperparameter optimization technique have you used and why?"
      ],
      "metadata": {
        "id": "3zkN0hzD5bJC"
      }
    },
    {
      "cell_type": "markdown",
      "source": [
        "Answer Here."
      ],
      "metadata": {
        "id": "1MTm-7Rg5bJC"
      }
    },
    {
      "cell_type": "markdown",
      "source": [
        "##### Have you seen any improvement? Note down the improvement with updates Evaluation metric Score Chart."
      ],
      "metadata": {
        "id": "zOnItheo5bJC"
      }
    },
    {
      "cell_type": "markdown",
      "source": [
        "Answer Here."
      ],
      "metadata": {
        "id": "bEZF2usS5bJC"
      }
    },
    {
      "cell_type": "markdown",
      "source": [
        "### 1. Which Evaluation metrics did you consider for a positive business impact and why?"
      ],
      "metadata": {
        "id": "tCZzOjsW5bJC"
      }
    },
    {
      "cell_type": "markdown",
      "source": [
        "R2 score is the one of the best measure for model testing."
      ],
      "metadata": {
        "id": "Q_L4uGlu5bJC"
      }
    },
    {
      "cell_type": "markdown",
      "source": [
        "### 2. Which ML model did you choose from the above created models as your final prediction model and why?"
      ],
      "metadata": {
        "id": "Dkvln2nH5bJC"
      }
    },
    {
      "cell_type": "markdown",
      "source": [
        "Random Forest with accuracy of 0.917882 and XGBoost with accuracy score of \n",
        "0.924354 are the Best models we can use. These two models are showing best accuracy score out of all models trained and tested.\n"
      ],
      "metadata": {
        "id": "tEdGLlKR5bJC"
      }
    },
    {
      "cell_type": "markdown",
      "source": [
        "### 3. Explain the model which you have used and the feature importance using any model explainability tool?"
      ],
      "metadata": {
        "id": "uv15Auxr5bJC"
      }
    },
    {
      "cell_type": "markdown",
      "source": [
        "Here Random forest Regression model is used. It has a best accuracy score. It is based on Decision tree algorithm. "
      ],
      "metadata": {
        "id": "G0tCoXVF5bJC"
      }
    },
    {
      "cell_type": "markdown",
      "source": [
        "## ***8.*** ***Future Work (Optional)***"
      ],
      "metadata": {
        "id": "EyNgTHvd2WFk"
      }
    },
    {
      "cell_type": "markdown",
      "source": [
        "### 1. Save the best performing ml model in a pickle file or joblib file format for deployment process.\n"
      ],
      "metadata": {
        "id": "KH5McJBi2d8v"
      }
    },
    {
      "cell_type": "code",
      "source": [
        "# Save the File"
      ],
      "metadata": {
        "id": "bQIANRl32f4J"
      },
      "execution_count": null,
      "outputs": []
    },
    {
      "cell_type": "markdown",
      "source": [
        "### 2. Again Load the saved model file and try to predict unseen data for a sanity check.\n"
      ],
      "metadata": {
        "id": "iW_Lq9qf2h6X"
      }
    },
    {
      "cell_type": "code",
      "source": [
        "# Load the File and predict unseen data."
      ],
      "metadata": {
        "id": "oEXk9ydD2nVC"
      },
      "execution_count": null,
      "outputs": []
    },
    {
      "cell_type": "markdown",
      "source": [
        "### ***Congrats! Your model is successfully created and ready for deployment on a live server for a real user interaction !!!***"
      ],
      "metadata": {
        "id": "-Kee-DAl2viO"
      }
    },
    {
      "cell_type": "markdown",
      "source": [
        "# **Conclusion**"
      ],
      "metadata": {
        "id": "gCX9965dhzqZ"
      }
    },
    {
      "cell_type": "markdown",
      "source": [
        "\n",
        "<b>Linear Regression, K-Nearest Neighbors, Decision Tree, Random Forest, XGBoost, and Gradient Boosting. These models have been trained to predict the target variable using a set of input features.\n",
        "\n",
        "Accuracy: It is a measure of how well the model is able to predict the target variable. The higher the accuracy, the better the model performance. From the table, we can see that the Random Forest and XGBoost models have the highest accuracy scores of 0.916853 and 0.924354, respectively. This indicates that these models are better at predicting the target variable than the other models.\n",
        "\n",
        "MSE and RMSE: These are measures of how well the model's predictions match the actual values. The lower the values, the better the model performance. Again, we can see that the Random Forest and XGBoost models have the lowest MSE and RMSE values, indicating that they have the best predictive power.\n",
        "\n",
        "R-squared and Adjusted R-squared: These metrics measure the proportion of variance in the target variable that can be explained by the model. The higher the values, the better the model performance. From the table, we can see that the XGBoost model has the highest R-squared and Adjusted R-squared values of 0.924354 and 0.923920, respectively, indicating that it is the best model at explaining the variance in the target variable.\n",
        "\n",
        "Overall, we can conclude that the Random Forest and XGBoost models are the best performing models based on the given performance metrics. These models are able to predict the target variable accurately and have the lowest MSE and RMSE values. Additionally, the XGBoost model has the highest R-squared and Adjusted R-squared values, indicating that it is the best model at explaining the variance in the target variable.\n",
        "\n",
        "However, it is important to note that the performance of these models may vary depending on the specific problem domain and dataset. Therefore, it is recommended to evaluate multiple models and select the one that performs best on the specific problem at hand."
      ],
      "metadata": {
        "id": "Fjb1IsQkh3yE"
      }
    },
    {
      "cell_type": "markdown",
      "source": [
        "### ***Hurrah! You have successfully completed your Machine Learning Capstone Project !!!***"
      ],
      "metadata": {
        "id": "gIfDvo9L0UH2"
      }
    }
  ]
}